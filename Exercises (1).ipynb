{
 "cells": [
  {
   "cell_type": "markdown",
   "metadata": {},
   "source": [
    "#### Exercise 1 - Class Inheritance"
   ]
  },
  {
   "cell_type": "markdown",
   "metadata": {},
   "source": [
    "Create an Employee class that sets an employee's first name, last name, job title, salary, and email. The Employee class should have a class attribute for the raise amount set to 5% (1.05). Create a method that will apply the raise to an employee's salary."
   ]
  },
  {
   "cell_type": "code",
   "execution_count": 48,
   "metadata": {},
   "outputs": [
    {
     "name": "stdout",
     "output_type": "stream",
     "text": [
      "tony campos's pay is going up to 10000\n"
     ]
    }
   ],
   "source": [
    "class Employee:\n",
    "    raise_amt = 1.05\n",
    "    def __init__(self, first_name, last_name, job_title, salary, email):\n",
    "        self.first_name = first_name\n",
    "        self.last_name = last_name\n",
    "        self.job_title = job_title\n",
    "        self.salary = salary\n",
    "        self.email = email    \n",
    "    \n",
    "    def raise_amount(self):\n",
    "        self.total = raise_amt * salary *2\n",
    "    \n",
    "    def __str__(self):\n",
    "        return f\"{self.first_name} {self.last_name}'s pay is going up to {self.salary}\"\n",
    "    \n",
    "worker1 = Employee('tony', 'campos', 'stock associate', 10000, 'tonycampos@mail.com')\n",
    "print(worker1)"
   ]
  },
  {
   "cell_type": "markdown",
   "metadata": {},
   "source": [
    "Create two more classes that inherit from the Employee class. One for Sales and one for Development. Both of these classes will have the same attributes as the Employee.<br>\n",
    "- For the Sales employees, add a phone number attribute on instantiation using the super method. \n",
    "- Create a method on the Sales class that will Send a Follow Up Email. It should take in a customer name and \"send\" aka print a formatted email \"Dear *customer*, Thank you for your interest in our product. Please let me know if you have any questions. My email is *email* or my phone number is *phone number*. Thanks, *full name*\"\n",
    "- Create a method on the Development class called code that will print out \"*full name* is writing code\"."
   ]
  },
  {
   "cell_type": "code",
   "execution_count": 59,
   "metadata": {},
   "outputs": [
    {
     "name": "stdout",
     "output_type": "stream",
     "text": [
      "Dear customer, Thank you for your interest in our product. Please let me know if you have any questions. My email is campos@mail.com or my phone number is 813234343. Thanks, TonyCampos\n"
     ]
    }
   ],
   "source": [
    "class Sales(Employee):\n",
    "    def __init__(self, first_name, last_name, email, phone_number):\n",
    "        self.first_name = first_name\n",
    "        self.last_name = last_name\n",
    "#         self.job_title = job_title\n",
    "#         self.salary = salary\n",
    "        self.email = email\n",
    "        self.phone_number = phone_number\n",
    "        \n",
    "    def __str__(self):\n",
    "        return f\"Dear customer, Thank you for your interest in our product. Please let me know if you have any questions. My email is {self.email} or my phone number is {self.phone_number}. Thanks, {self.first_name}{self.last_name}\"\n",
    "\n",
    "following_up = Sales('Tony', 'Campos', 'campos@mail.com', 813234343)\n",
    "print(following_up)"
   ]
  },
  {
   "cell_type": "code",
   "execution_count": 64,
   "metadata": {},
   "outputs": [
    {
     "name": "stdout",
     "output_type": "stream",
     "text": [
      "tony campos's pay is going up to \n"
     ]
    }
   ],
   "source": [
    "class Development(Employee):\n",
    "    \n",
    "    def ____(self):\n",
    "        return f\"{self.first_name}{self.last_name} is writing code.\"\n",
    "\n",
    "typing = Development(\"tony\", \"campos\", '', '', '')\n",
    "print(typing)"
   ]
  },
  {
   "cell_type": "markdown",
   "metadata": {},
   "source": [
    "- Create an instance of a Sales Employee with a salary of $50,000.\n",
    "- Send follow up emails to \"Mike O'Neil\" and \"Hannah Stern\"\n",
    "- Give the employee a raise and print the salary"
   ]
  },
  {
   "cell_type": "code",
   "execution_count": null,
   "metadata": {},
   "outputs": [],
   "source": []
  },
  {
   "cell_type": "markdown",
   "metadata": {},
   "source": [
    "- Create an instance of a Development Employee with a salary of $100,000\n",
    "- Write some code with this employee\n",
    "- Give the employee a raise and print the salary"
   ]
  },
  {
   "cell_type": "code",
   "execution_count": null,
   "metadata": {},
   "outputs": [],
   "source": []
  },
  {
   "cell_type": "markdown",
   "metadata": {},
   "source": [
    "#### Exercise 2 - Importing Modules"
   ]
  },
  {
   "cell_type": "markdown",
   "metadata": {},
   "source": [
    "In VS Code, create a module titled `geometry` and add two functions in there. One that will calculate the area of a circle given a radius. The second will find the hypotenuse of a right angle given the two sides. Import the module or the functions from the module and use it to find the answers to the below questions"
   ]
  },
  {
   "cell_type": "markdown",
   "metadata": {},
   "source": [
    "What is the area of a circle with a radius of 7cm?"
   ]
  },
  {
   "cell_type": "code",
   "execution_count": null,
   "metadata": {},
   "outputs": [],
   "source": []
  },
  {
   "cell_type": "markdown",
   "metadata": {},
   "source": [
    "What is the hypotenuse of a right angle with sides of 3in and 4in?"
   ]
  },
  {
   "cell_type": "code",
   "execution_count": null,
   "metadata": {},
   "outputs": [],
   "source": []
  }
 ],
 "metadata": {
  "kernelspec": {
   "display_name": "Python 3 (ipykernel)",
   "language": "python",
   "name": "python3"
  },
  "language_info": {
   "codemirror_mode": {
    "name": "ipython",
    "version": 3
   },
   "file_extension": ".py",
   "mimetype": "text/x-python",
   "name": "python",
   "nbconvert_exporter": "python",
   "pygments_lexer": "ipython3",
   "version": "3.9.12"
  }
 },
 "nbformat": 4,
 "nbformat_minor": 4
}
